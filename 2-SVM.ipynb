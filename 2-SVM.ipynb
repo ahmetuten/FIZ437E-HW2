{
 "cells": [
  {
   "cell_type": "code",
   "execution_count": 35,
   "id": "3dc1a6aa",
   "metadata": {},
   "outputs": [],
   "source": [
    "import numpy as np\n",
    "import glob\n",
    "import cv2"
   ]
  },
  {
   "cell_type": "code",
   "execution_count": 48,
   "id": "1669e5e5",
   "metadata": {},
   "outputs": [],
   "source": [
    "class SVM:\n",
    "    def __init__(self, learning_rate=1e-3, lambda_param=1e-2, n_iters=1000):\n",
    "        self.lr = learning_rate\n",
    "        self.lambda_param = lambda_param\n",
    "        self.n_iters = n_iters\n",
    "        self.w = None\n",
    "        self.b = None\n",
    "\n",
    "    def _init_weights_bias(self, X):\n",
    "        n_features = X.shape[1]\n",
    "        self.w = np.zeros(n_features)\n",
    "        self.b = 0\n",
    "\n",
    "    def _get_cls_map(self, y):\n",
    "        return np.where(y <= 0, -1, 1)\n",
    "\n",
    "    def _satisfy_constraint(self, x, idx):\n",
    "        linear_model = np.dot(x, self.w) + self.b \n",
    "        return self.cls_map[idx] * linear_model >= 1\n",
    "    \n",
    "    def _get_gradients(self, constrain, x, idx):\n",
    "        if constrain:\n",
    "            dw = self.lambda_param * self.w\n",
    "            db = 0\n",
    "            return dw, db\n",
    "        \n",
    "        dw = self.lambda_param * self.w - np.dot(self.cls_map[idx], x)\n",
    "        db = - self.cls_map[idx]\n",
    "        return dw, db\n",
    "    \n",
    "    def _update_weights_bias(self, dw, db):\n",
    "        self.w -= self.lr * dw\n",
    "        self.b -= self.lr * db\n",
    "    \n",
    "    def fit(self, X, y):\n",
    "        self._init_weights_bias(X)\n",
    "        self.cls_map = self._get_cls_map(y)\n",
    "\n",
    "        for _ in range(self.n_iters):\n",
    "            for idx, x in enumerate(X):\n",
    "                constrain = self._satisfy_constraint(x, idx)\n",
    "                dw, db = self._get_gradients(constrain, x, idx)\n",
    "                self._update_weights_bias(dw, db)\n",
    "    \n",
    "    def predict(self, X):\n",
    "        estimate = np.dot(X, self.w) + self.b\n",
    "        prediction = np.sign(estimate)\n",
    "        return np.where(prediction == -1, 0, 1)"
   ]
  },
  {
   "cell_type": "code",
   "execution_count": 49,
   "id": "39907c6a",
   "metadata": {},
   "outputs": [],
   "source": [
    "# 0 = giraffe, 1 = zebra\n",
    "\n",
    "y = []\n",
    "\n",
    "for i in range(775):\n",
    "    y.append(0)\n",
    "    \n",
    "for i in range(697):\n",
    "    y.append(1)"
   ]
  },
  {
   "cell_type": "code",
   "execution_count": 50,
   "id": "a2a24964",
   "metadata": {},
   "outputs": [],
   "source": [
    "# read images\n",
    "\n",
    "X = [cv2.imread(file, cv2.IMREAD_GRAYSCALE) for file in glob.glob(\"/Users/ahmetuten/Desktop/Ders/FIZ437E/images/*.jpg\")]\n",
    "X = np.array(X)"
   ]
  },
  {
   "cell_type": "code",
   "execution_count": 51,
   "id": "9c900c27",
   "metadata": {},
   "outputs": [],
   "source": [
    "# images to 1d array\n",
    "raveled = []\n",
    "\n",
    "for i in range(len(X)):\n",
    "    raveled.append(X[i].ravel())\n",
    "    \n",
    "raveled = np.array(raveled)"
   ]
  },
  {
   "cell_type": "code",
   "execution_count": 52,
   "id": "cef7eb79",
   "metadata": {},
   "outputs": [],
   "source": [
    "# scale the pixel values\n",
    "from sklearn.preprocessing import StandardScaler\n",
    "\n",
    "scaler = StandardScaler()\n",
    "x_raveled = scaler.fit_transform(raveled)"
   ]
  },
  {
   "cell_type": "code",
   "execution_count": 53,
   "id": "82b36be9",
   "metadata": {},
   "outputs": [],
   "source": [
    "perc = 0.9\n",
    "\n",
    "x_train = x_raveled[:int(np.floor(len(x_raveled)*perc))]\n",
    "x_test = x_raveled[int(np.floor(len(x_raveled)*perc)):]\n",
    "\n",
    "y_train = y[:int(np.floor(len(y)*perc))]\n",
    "y_test = y[int(np.floor(len(y)*perc)):]"
   ]
  },
  {
   "cell_type": "code",
   "execution_count": 54,
   "id": "9a826157",
   "metadata": {},
   "outputs": [],
   "source": [
    "y_train = np.array(y_train)"
   ]
  },
  {
   "cell_type": "code",
   "execution_count": 55,
   "id": "40ea7165",
   "metadata": {},
   "outputs": [],
   "source": [
    "clf = SVM()\n",
    "clf.fit(x_train, y_train)"
   ]
  },
  {
   "cell_type": "code",
   "execution_count": 56,
   "id": "86c1e1a6",
   "metadata": {},
   "outputs": [
    {
     "name": "stdout",
     "output_type": "stream",
     "text": [
      "[0 0 0 0 1 0 0 0 1 0 1 1 1 1 0 1 0 0 1 1 1 1 1 0 1 0 0 0 0 1 0 1 1 1 1 1 0\n",
      " 0 0 0 0 1 1 1 0 1 0 1 0 0 1 1 0 0 1 0 1 0 0 0 0 0 0 1 1 0 0 1 1 0 1 0 0 1\n",
      " 0 0 1 0 0 1 0 1 0 0 1 0 1 0 1 0 0 0 0 0 1 0 0 1 0 0 0 0 1 1 0 1 1 0 1 0 1\n",
      " 0 1 0 0 0 0 1 0 0 0 1 1 0 1 0 1 0 1 0 0 0 1 1 0 1 0 0 1 0 0 1 0 0 0 1 1 1]\n"
     ]
    }
   ],
   "source": [
    "y_pred = clf.predict(x_test)\n",
    "print(y_pred)"
   ]
  },
  {
   "cell_type": "code",
   "execution_count": 57,
   "id": "397e9014",
   "metadata": {},
   "outputs": [
    {
     "name": "stdout",
     "output_type": "stream",
     "text": [
      "0.42567567567567566\n"
     ]
    }
   ],
   "source": [
    "# accuracy\n",
    "acc = np.sum(np.equal(y_test, y_pred)) / len(y_test)\n",
    "print(acc)"
   ]
  },
  {
   "cell_type": "code",
   "execution_count": null,
   "id": "8bda2dc0",
   "metadata": {},
   "outputs": [],
   "source": []
  }
 ],
 "metadata": {
  "kernelspec": {
   "display_name": "Python 3 (ipykernel)",
   "language": "python",
   "name": "python3"
  },
  "language_info": {
   "codemirror_mode": {
    "name": "ipython",
    "version": 3
   },
   "file_extension": ".py",
   "mimetype": "text/x-python",
   "name": "python",
   "nbconvert_exporter": "python",
   "pygments_lexer": "ipython3",
   "version": "3.10.4"
  }
 },
 "nbformat": 4,
 "nbformat_minor": 5
}

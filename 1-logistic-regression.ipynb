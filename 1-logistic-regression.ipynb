{
 "cells": [
  {
   "cell_type": "code",
   "execution_count": 120,
   "id": "f7f90fda",
   "metadata": {},
   "outputs": [],
   "source": [
    "import numpy as np\n",
    "import glob\n",
    "import cv2"
   ]
  },
  {
   "cell_type": "code",
   "execution_count": 183,
   "id": "78e1e57c",
   "metadata": {},
   "outputs": [],
   "source": [
    "def sigmoid(x):\n",
    "    return 1/(1+np.exp(-x))\n",
    "\n",
    "class LogisticRegression():\n",
    "\n",
    "    def __init__(self, lr = 0.001, n_iters = 1000):\n",
    "        self.lr = lr\n",
    "        self.n_iters = n_iters\n",
    "        self.weights = None\n",
    "        self.bias = None\n",
    "\n",
    "    def fit(self, X, y):\n",
    "        n_samples, n_features = X.shape\n",
    "        self.weights = np.zeros(n_features)\n",
    "        self.bias = 0\n",
    "\n",
    "        for _ in range(self.n_iters):\n",
    "            linear_pred = np.dot(X, self.weights) + self.bias\n",
    "            predictions = sigmoid(linear_pred)\n",
    "\n",
    "            dw = (1/n_samples) * np.dot(X.T, (predictions - y))\n",
    "            db = (1/n_samples) * np.sum(predictions-y)\n",
    "\n",
    "            self.weights = self.weights - self.lr * dw\n",
    "            self.bias = self.bias - self.lr * db\n",
    "\n",
    "    def predict(self, X):\n",
    "        linear_pred = np.dot(X, self.weights) + self.bias\n",
    "        y_pred = sigmoid(linear_pred)\n",
    "        class_pred = [0 if y<=0.5 else 1 for y in y_pred]\n",
    "        \n",
    "        return class_pred"
   ]
  },
  {
   "cell_type": "code",
   "execution_count": 184,
   "id": "541ad18d",
   "metadata": {},
   "outputs": [],
   "source": [
    "# 0 = giraffe, 1 = zebra\n",
    "\n",
    "y = []\n",
    "\n",
    "for i in range(775):\n",
    "    y.append(0)\n",
    "    \n",
    "for i in range(697):\n",
    "    y.append(1)"
   ]
  },
  {
   "cell_type": "code",
   "execution_count": 185,
   "id": "991c9ffc",
   "metadata": {},
   "outputs": [],
   "source": [
    "# read images\n",
    "\n",
    "X = [cv2.imread(file, cv2.IMREAD_GRAYSCALE) for file in glob.glob(\"/Users/ahmetuten/Desktop/Ders/FIZ437E/images/*.jpg\")]\n",
    "X = np.array(X)"
   ]
  },
  {
   "cell_type": "code",
   "execution_count": 186,
   "id": "6996e27b",
   "metadata": {},
   "outputs": [],
   "source": [
    "# images to 1d array\n",
    "raveled = []\n",
    "\n",
    "for i in range(len(X)):\n",
    "    raveled.append(X[i].ravel())\n",
    "    \n",
    "raveled = np.array(raveled)"
   ]
  },
  {
   "cell_type": "code",
   "execution_count": 187,
   "id": "76e45822",
   "metadata": {},
   "outputs": [],
   "source": [
    "# scale the pixel values\n",
    "from sklearn.preprocessing import StandardScaler\n",
    "\n",
    "scaler = StandardScaler()\n",
    "x_raveled = scaler.fit_transform(raveled)"
   ]
  },
  {
   "cell_type": "code",
   "execution_count": 188,
   "id": "1150af21",
   "metadata": {},
   "outputs": [],
   "source": [
    "perc = 0.9\n",
    "\n",
    "x_train = x_raveled[:int(np.floor(len(x_raveled)*perc))]\n",
    "x_test = x_raveled[int(np.floor(len(x_raveled)*perc)):]\n",
    "\n",
    "y_train = y[:int(np.floor(len(y)*perc))]\n",
    "y_test = y[int(np.floor(len(y)*perc)):]"
   ]
  },
  {
   "cell_type": "code",
   "execution_count": 189,
   "id": "b76727d4",
   "metadata": {},
   "outputs": [],
   "source": [
    "# fit the data to model\n",
    "clf = LogisticRegression()\n",
    "clf.fit(x_train, y_train)"
   ]
  },
  {
   "cell_type": "code",
   "execution_count": 190,
   "id": "99ee74e6",
   "metadata": {},
   "outputs": [
    {
     "name": "stdout",
     "output_type": "stream",
     "text": [
      "[1, 0, 0, 1, 1, 0, 0, 0, 1, 0, 0, 1, 1, 1, 0, 0, 0, 0, 0, 1, 1, 1, 0, 0, 0, 0, 1, 1, 1, 1, 1, 1, 1, 1, 1, 1, 0, 0, 0, 0, 0, 1, 0, 1, 1, 1, 0, 0, 0, 1, 1, 1, 0, 0, 0, 0, 0, 0, 0, 1, 0, 0, 0, 1, 1, 0, 0, 1, 0, 0, 0, 0, 0, 1, 0, 1, 0, 1, 0, 1, 0, 1, 1, 1, 1, 0, 0, 0, 0, 0, 0, 0, 0, 0, 1, 0, 0, 1, 0, 0, 1, 1, 1, 1, 0, 1, 1, 0, 1, 0, 0, 1, 1, 0, 1, 0, 0, 1, 0, 1, 1, 1, 1, 1, 1, 1, 1, 0, 1, 1, 0, 0, 0, 1, 0, 1, 0, 1, 1, 0, 1, 0, 0, 1, 0, 1, 1, 1]\n"
     ]
    }
   ],
   "source": [
    "# predict\n",
    "y_pred = clf.predict(x_test)\n",
    "print(y_pred)"
   ]
  },
  {
   "cell_type": "code",
   "execution_count": 191,
   "id": "6f697b76",
   "metadata": {},
   "outputs": [
    {
     "name": "stdout",
     "output_type": "stream",
     "text": [
      "0.4797297297297297\n"
     ]
    }
   ],
   "source": [
    "# accuracy\n",
    "acc = np.sum(np.equal(y_test, y_pred)) / len(y_test)\n",
    "print(acc)"
   ]
  },
  {
   "cell_type": "code",
   "execution_count": null,
   "id": "bd76554e",
   "metadata": {},
   "outputs": [],
   "source": []
  }
 ],
 "metadata": {
  "kernelspec": {
   "display_name": "Python 3 (ipykernel)",
   "language": "python",
   "name": "python3"
  },
  "language_info": {
   "codemirror_mode": {
    "name": "ipython",
    "version": 3
   },
   "file_extension": ".py",
   "mimetype": "text/x-python",
   "name": "python",
   "nbconvert_exporter": "python",
   "pygments_lexer": "ipython3",
   "version": "3.10.4"
  }
 },
 "nbformat": 4,
 "nbformat_minor": 5
}
